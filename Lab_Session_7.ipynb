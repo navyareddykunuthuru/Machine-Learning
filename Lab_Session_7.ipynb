{
  "nbformat": 4,
  "nbformat_minor": 0,
  "metadata": {
    "colab": {
      "provenance": []
    },
    "kernelspec": {
      "name": "python3",
      "display_name": "Python 3"
    },
    "language_info": {
      "name": "python"
    }
  },
  "cells": [
    {
      "cell_type": "code",
      "execution_count": null,
      "metadata": {
        "id": "gm4Ktq67x9VC"
      },
      "outputs": [],
      "source": [
        "import pandas as pd\n",
        "from sklearn.model_selection import train_test_split\n",
        "from sklearn.neural_network import MLPClassifier\n",
        "from sklearn.metrics import accuracy_score, classification_report\n",
        "from sklearn.feature_extraction.text import TfidfVectorizer\n",
        "from sklearn.preprocessing import StandardScaler\n",
        "from scipy.sparse import hstack\n",
        "from google.colab import drive\n",
        "drive.mount('/content/drive')\n",
        "sentence_data = pd.read_excel('/content/drive/MyDrive/Colab Notebooks/MLLAB3.xlsx')\n",
        "\n",
        "# TF-IDF Vectorization for Text\n",
        "tfidf_vectorizer = TfidfVectorizer()\n",
        "text_features = tfidf_vectorizer.fit_transform(sentence_data['Text'])\n",
        "\n",
        "# Selecting and scaling the other numerical features\n",
        "numerical_features = sentence_data[['No_of_words', 'No_of_questoning_words', 'Has_Question_Mark']]\n",
        "scaler = StandardScaler()\n",
        "scaled_numerical_features = scaler.fit_transform(numerical_features)\n",
        "\n",
        "# Combining TF-IDF features with other numerical features\n",
        "features = hstack([text_features, scaled_numerical_features])\n",
        "labels = sentence_data['label']\n",
        "\n",
        "# Spliting the Data into training and testing\n",
        "features_train, features_test, labels_train, labels_test = train_test_split(features, labels, test_size=0.2, random_state=42)"
      ]
    }
  ]
}