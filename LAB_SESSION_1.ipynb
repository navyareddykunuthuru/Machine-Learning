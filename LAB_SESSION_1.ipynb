{
  "nbformat": 4,
  "nbformat_minor": 0,
  "metadata": {
    "colab": {
      "provenance": []
    },
    "kernelspec": {
      "name": "python3",
      "display_name": "Python 3"
    },
    "language_info": {
      "name": "python"
    }
  },
  "cells": [
    {
      "cell_type": "code",
      "execution_count": null,
      "metadata": {
        "colab": {
          "base_uri": "https://localhost:8080/"
        },
        "id": "TdvlGorIIOcn",
        "outputId": "a3672d0e-5061-4819-e3bc-5062e448e81a"
      },
      "outputs": [
        {
          "output_type": "stream",
          "name": "stdout",
          "text": [
            "Enter a String\n",
            "Hello World how are you\n",
            "NO.OF VOWELS\n",
            "8\n",
            "NO.OF CONSONANTS\n",
            "11\n"
          ]
        }
      ],
      "source": [
        "def CountVowels(string):\n",
        "   vowels=0\n",
        "   consonants=0\n",
        "   string=string.lower()\n",
        "   vowellist=[\"a\",\"e\",\"i\",\"o\",\"u\"]\n",
        "   for i in range(len(string)):\n",
        "       if string[i] in vowellist:\n",
        "           vowels=vowels+1\n",
        "       elif string[i]!=\" \":\n",
        "           consonants=consonants+1\n",
        "   list=[vowels,consonants]\n",
        "   return list\n",
        "print(\"Enter a String\")\n",
        "string=input()\n",
        "vowels,consonants=CountVowels(string)\n",
        "print(\"NO.OF VOWELS\")\n",
        "print(vowels)\n",
        "print(\"NO.OF CONSONANTS\")\n",
        "print(consonants)\n"
      ]
    },
    {
      "cell_type": "code",
      "source": [
        "def productofmatrices(matrix_A,matrix_B):\n",
        "    if len(matrix_A[0]) != len(matrix_B):\n",
        "       return \"MATRICES CAN NOT BE MULTIPLIED\"\n",
        "    product=[]\n",
        "    for i in range(len(matrix_A)):\n",
        "        row=[]\n",
        "        for j in range(len(matrix_B[0])):\n",
        "                row.append(0)\n",
        "        product.append(row)\n",
        "    for i in range(len(matrix_A)):\n",
        "        for j in range(len(matrix_B[0])):\n",
        "             for k in range(len(matrix_B)):\n",
        "                 product[i][j]+=matrix_A[i][k]*matrix_B[k][j]\n",
        "    return product\n",
        "print(\"enter the no.of rows in matrix A:\")\n",
        "rows_A=int(input())\n",
        "print(\"enter the no.of columns in matrix A:\")\n",
        "columns_A=int(input())\n",
        "matrix_A=[]\n",
        "for i in range(rows_A):\n",
        "    row=[]\n",
        "    for j in range(columns_A):\n",
        "        elements = float(input(f\"Enter element [{i+1}][{j+1}]: \"))\n",
        "        row.append(elements)\n",
        "    matrix_A.append(row)\n",
        "for i in range(len(matrix_A)):\n",
        "    print(matrix_A[i])\n",
        "print(\"enter the no.of rows in matrix B:\")\n",
        "rows_B=int(input())\n",
        "print(\"enter the no.of columns in matrix B:\")\n",
        "columns_B=int(input())\n",
        "matrix_B=[]\n",
        "for i in range(rows_B):\n",
        "    row=[]\n",
        "    for j in range(columns_B):\n",
        "        elements = float(input(f\"Enter element [{i+1}][{j+1}]: \"))\n",
        "        row.append(elements)\n",
        "    matrix_B.append(row)\n",
        "for i in range(len(matrix_B)):\n",
        "    print(matrix_B[i])\n",
        "product=productofmatrices(matrix_A,matrix_B)\n",
        "print(\"PRODUCT OF MATRICES:\")\n",
        "for i in range(len(product)):\n",
        "    print(product[i])\n",
        "\n"
      ],
      "metadata": {
        "colab": {
          "base_uri": "https://localhost:8080/"
        },
        "id": "cd1yFrGNITw-",
        "outputId": "d0e2f80d-2025-4fdd-b3a2-6efc8120f02a"
      },
      "execution_count": null,
      "outputs": [
        {
          "output_type": "stream",
          "name": "stdout",
          "text": [
            "enter the no.of rows in matrix A:\n",
            "2\n",
            "enter the no.of columns in matrix A:\n",
            "2\n",
            "Enter element [1][1]: 1\n",
            "Enter element [1][2]: 2\n",
            "Enter element [2][1]: 3\n",
            "Enter element [2][2]: 4\n",
            "[1.0, 2.0]\n",
            "[3.0, 4.0]\n",
            "enter the no.of rows in matrix B:\n",
            "2\n",
            "2\n",
            "enter the no.of columns in matrix B:\n",
            "Enter element [1][1]: 1\n",
            "Enter element [1][2]: 2\n",
            "Enter element [2][1]: 3\n",
            "Enter element [2][2]: 4\n",
            "[1.0, 2.0]\n",
            "[3.0, 4.0]\n",
            "PRODUCT OF MATRICES:\n",
            "[7.0, 10.0]\n",
            "[15.0, 22.0]\n"
          ]
        }
      ]
    },
    {
      "cell_type": "code",
      "source": [
        "def matrixtranspose(matrix):\n",
        "    transpose=[]\n",
        "    elements=0\n",
        "    if not matrix:\n",
        "       return transpose\n",
        "    for i in range(len(matrix[0])):\n",
        "        rowt=[]\n",
        "        for j in range(len(matrix)):\n",
        "          rowt.append(matrix[j][i])\n",
        "        transpose.append(rowt)\n",
        "    return transpose\n",
        "print(\"enter the no.of rows in matrix:\")\n",
        "rows=int(input())\n",
        "print(\"enter the no.of columns in matrix:\")\n",
        "columns=int(input())\n",
        "matrix=[]\n",
        "for i in range(rows):\n",
        "    row=[]\n",
        "    for j in range(columns):\n",
        "        elements = float(input(f\"Enter element [{i+1}][{j+1}]: \"))\n",
        "        row.append(elements)\n",
        "    matrix.append(row)\n",
        "for i in range(len(matrix)):\n",
        "    print(matrix[i])\n",
        "transposed=matrixtranspose(matrix)\n",
        "print(\"TRANSPOSED MATRIX:\")\n",
        "for i in range(len(transposed)):\n",
        "    print(transposed[i])"
      ],
      "metadata": {
        "id": "_EMmegExIUz8",
        "colab": {
          "base_uri": "https://localhost:8080/"
        },
        "outputId": "c0f7260e-bed3-48e0-94fe-09f6e5eeb4ba"
      },
      "execution_count": null,
      "outputs": [
        {
          "output_type": "stream",
          "name": "stdout",
          "text": [
            "enter the no.of rows in matrix:\n",
            "3\n",
            "enter the no.of columns in matrix:\n",
            "2\n",
            "Enter element [1][1]: 1\n",
            "Enter element [1][2]: 2\n",
            "Enter element [2][1]: 3\n",
            "Enter element [2][2]: 4\n",
            "Enter element [3][1]: 5\n",
            "Enter element [3][2]: 6\n",
            "[1.0, 2.0]\n",
            "[3.0, 4.0]\n",
            "[5.0, 6.0]\n",
            "TRANSPOSED MATRIX:\n",
            "[1.0, 3.0, 5.0]\n",
            "[2.0, 4.0, 6.0]\n"
          ]
        }
      ]
    },
    {
      "cell_type": "code",
      "source": [
        "def count(list_1,list_2):\n",
        "    count=0\n",
        "    for i in range(len(list_1)):\n",
        "        if list_1[i] in list_2:\n",
        "           count=count+1\n",
        "    return count\n",
        "list_1_length=int(input(\"enter the length of list 1:\"))\n",
        "list_1=[]\n",
        "for i in range(list_1_length):\n",
        "    elements=int(input(f\"Enter element [{i+1}]:\"))\n",
        "    list_1.append(elements)\n",
        "list_2_length=int(input(\"enter the length of list 1:\"))\n",
        "list_2=[]\n",
        "for i in range(list_2_length):\n",
        "    elements=int(input(f\"Enter element [{i+1}]:\"))\n",
        "    list_2.append(elements)\n",
        "print(\"List 1: \",list_1)\n",
        "print(\"List 2: \",list_2)\n",
        "CommonIntCount=count(list_1,list_2)\n",
        "print(\"COMMON INTEGERS:\")\n",
        "print(CommonIntCount)\n"
      ],
      "metadata": {
        "colab": {
          "base_uri": "https://localhost:8080/"
        },
        "id": "5-HIeI3ONoUT",
        "outputId": "a664eddd-e271-42dc-b60e-bfa46995a64f"
      },
      "execution_count": null,
      "outputs": [
        {
          "output_type": "stream",
          "name": "stdout",
          "text": [
            "enter the length of list 1:4\n",
            "Enter element [1]:66\n",
            "Enter element [2]:77\n",
            "Enter element [3]:88\n",
            "Enter element [4]:99\n",
            "enter the length of list 1:3\n",
            "Enter element [1]:66\n",
            "Enter element [2]:99\n",
            "Enter element [3]:88\n",
            "List 1:  [66, 77, 88, 99]\n",
            "List 2:  [66, 99, 88]\n",
            "COMMON INTEGERS:\n",
            "3\n"
          ]
        }
      ]
    }
  ]
}