{
  "nbformat": 4,
  "nbformat_minor": 0,
  "metadata": {
    "colab": {
      "provenance": [],
      "toc_visible": true
    },
    "kernelspec": {
      "name": "python3",
      "display_name": "Python 3"
    },
    "language_info": {
      "name": "python"
    }
  },
  "cells": [
    {
      "cell_type": "code",
      "execution_count": 15,
      "metadata": {
        "colab": {
          "base_uri": "https://localhost:8080/"
        },
        "id": "s0KU7e4aQOX9",
        "outputId": "9c431aae-f633-40d0-fb75-438b5aad1ff2"
      },
      "outputs": [
        {
          "output_type": "stream",
          "name": "stdout",
          "text": [
            "Drive already mounted at /content/drive; to attempt to forcibly remount, call drive.mount(\"/content/drive\", force_remount=True).\n",
            "PURCHASE DATA:\n",
            "  Customer  Candies (#)  Mangoes (Kg)  Milk Packets (#)  Payment (Rs)\n",
            "0      C_1           20             6                 2           386\n",
            "1      C_2           16             3                 6           289\n",
            "2      C_3           27             6                 2           393\n",
            "3      C_4           19             1                 2           110\n",
            "4      C_5           24             4                 2           280\n",
            "5      C_6           22             1                 5           167\n",
            "6      C_7           15             4                 2           271\n",
            "7      C_8           18             4                 2           274\n",
            "8      C_9           21             1                 4           148\n",
            "9     C_10           16             2                 4           198\n",
            "MATRIX A:\n",
            "[[20  6  2]\n",
            " [16  3  6]\n",
            " [27  6  2]\n",
            " [19  1  2]\n",
            " [24  4  2]\n",
            " [22  1  5]\n",
            " [15  4  2]\n",
            " [18  4  2]\n",
            " [21  1  4]\n",
            " [16  2  4]]\n",
            "MATRIX C:\n",
            "[[386]\n",
            " [289]\n",
            " [393]\n",
            " [110]\n",
            " [280]\n",
            " [167]\n",
            " [271]\n",
            " [274]\n",
            " [148]\n",
            " [198]]\n",
            "DIMENSIONALITY OF VECTOR SPACE OF DATA:\n",
            " 3\n",
            "NO.OF VECTOR SPACES:\n",
            " 10\n",
            "RANK OF MATRIX A:\n",
            " 3\n",
            "PSEUDO INVERSE OF A:\n",
            " [[-0.01008596 -0.03124505  0.01013951  0.0290728   0.0182907   0.01161794\n",
            "  -0.00771348  0.00095458  0.01743623 -0.00542016]\n",
            " [ 0.09059668  0.07263726  0.03172933 -0.09071908 -0.01893196 -0.06926996\n",
            "   0.05675464  0.03152577 -0.07641966  0.00357352]\n",
            " [ 0.00299878  0.15874243 -0.05795468 -0.06609024 -0.06295043  0.03348017\n",
            "   0.01541831 -0.01070461  0.00029003  0.05938755]]\n"
          ]
        }
      ],
      "source": [
        "from google.colab import drive\n",
        "import pandas as pd\n",
        "import numpy as np\n",
        "drive.mount('/content/drive')\n",
        "purchase_data = pd.read_excel('/content/drive/MyDrive/Colab Notebooks/Lab Session Data.xlsx', usecols=[0,1, 2, 3,4])\n",
        "print(\"PURCHASE DATA:\")\n",
        "print(purchase_data)\n",
        "data1=purchase_data.iloc[:, 1:4]\n",
        "A = data1.to_numpy()\n",
        "print(\"MATRIX A:\")\n",
        "print(A)\n",
        "data1=purchase_data.iloc[:, 4:5]\n",
        "C = data1.to_numpy()\n",
        "print(\"MATRIX C:\")\n",
        "print(C)\n",
        "print(\"DIMENSIONALITY OF VECTOR SPACE OF DATA:\\n\",len(A[0]))\n",
        "print(\"NO.OF VECTOR SPACES:\\n\",len(A))\n",
        "rank_A=np.linalg.matrix_rank(A)\n",
        "print(\"RANK OF MATRIX A:\\n\",rank_A)\n",
        "pseudo_inverse_A=np.linalg.pinv(A)\n",
        "print(\"PSEUDO INVERSE OF A:\\n\",pseudo_inverse_A)"
      ]
    },
    {
      "cell_type": "code",
      "source": [],
      "metadata": {
        "colab": {
          "base_uri": "https://localhost:8080/"
        },
        "id": "WfigWtMcYqpP",
        "outputId": "976424f8-372d-458d-e898-7ff7ff03eed2"
      },
      "execution_count": null,
      "outputs": [
        {
          "output_type": "stream",
          "name": "stdout",
          "text": [
            "Drive already mounted at /content/drive; to attempt to forcibly remount, call drive.mount(\"/content/drive\", force_remount=True).\n",
            "  Customer  Candies (#)  Mangoes (Kg)  Milk Packets (#)  Payment (Rs)\n",
            "0      C_1           20             6                 2           386\n",
            "1      C_2           16             3                 6           289\n",
            "2      C_3           27             6                 2           393\n",
            "3      C_4           19             1                 2           110\n",
            "4      C_5           24             4                 2           280\n",
            "5      C_6           22             1                 5           167\n",
            "6      C_7           15             4                 2           271\n",
            "7      C_8           18             4                 2           274\n",
            "8      C_9           21             1                 4           148\n",
            "9     C_10           16             2                 4           198\n",
            "[['C_1' 20 6 2 386]\n",
            " ['C_2' 16 3 6 289]\n",
            " ['C_3' 27 6 2 393]\n",
            " ['C_4' 19 1 2 110]\n",
            " ['C_5' 24 4 2 280]\n",
            " ['C_6' 22 1 5 167]\n",
            " ['C_7' 15 4 2 271]\n",
            " ['C_8' 18 4 2 274]\n",
            " ['C_9' 21 1 4 148]\n",
            " ['C_10' 16 2 4 198]]\n"
          ]
        }
      ]
    }
  ]
}
