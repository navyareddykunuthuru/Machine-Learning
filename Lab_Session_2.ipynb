{
  "nbformat": 4,
  "nbformat_minor": 0,
  "metadata": {
    "colab": {
      "provenance": [],
      "toc_visible": true
    },
    "kernelspec": {
      "name": "python3",
      "display_name": "Python 3"
    },
    "language_info": {
      "name": "python"
    }
  },
  "cells": [
    {
      "cell_type": "code",
      "execution_count": 16,
      "metadata": {
        "colab": {
          "base_uri": "https://localhost:8080/"
        },
        "id": "s0KU7e4aQOX9",
        "outputId": "0e512298-8535-4799-bf46-bae709ac10c1"
      },
      "outputs": [
        {
          "output_type": "stream",
          "name": "stdout",
          "text": [
            "Drive already mounted at /content/drive; to attempt to forcibly remount, call drive.mount(\"/content/drive\", force_remount=True).\n"
          ]
        }
      ],
      "source": []
    },
    {
      "cell_type": "code",
      "source": [
        "from google.colab import drive\n",
        "import pandas as pd\n",
        "import numpy as np\n",
        "drive.mount('/content/drive')\n",
        "purchase_data = pd.read_excel('/content/drive/MyDrive/Colab Notebooks/Lab Session Data.xlsx', usecols=[0,1, 2, 3,4])\n",
        "print(purchase_data)\n",
        "A = purchase_data.to_numpy()\n",
        "print(A)"
      ],
      "metadata": {
        "colab": {
          "base_uri": "https://localhost:8080/"
        },
        "id": "WfigWtMcYqpP",
        "outputId": "976424f8-372d-458d-e898-7ff7ff03eed2"
      },
      "execution_count": 58,
      "outputs": [
        {
          "output_type": "stream",
          "name": "stdout",
          "text": [
            "Drive already mounted at /content/drive; to attempt to forcibly remount, call drive.mount(\"/content/drive\", force_remount=True).\n",
            "  Customer  Candies (#)  Mangoes (Kg)  Milk Packets (#)  Payment (Rs)\n",
            "0      C_1           20             6                 2           386\n",
            "1      C_2           16             3                 6           289\n",
            "2      C_3           27             6                 2           393\n",
            "3      C_4           19             1                 2           110\n",
            "4      C_5           24             4                 2           280\n",
            "5      C_6           22             1                 5           167\n",
            "6      C_7           15             4                 2           271\n",
            "7      C_8           18             4                 2           274\n",
            "8      C_9           21             1                 4           148\n",
            "9     C_10           16             2                 4           198\n",
            "[['C_1' 20 6 2 386]\n",
            " ['C_2' 16 3 6 289]\n",
            " ['C_3' 27 6 2 393]\n",
            " ['C_4' 19 1 2 110]\n",
            " ['C_5' 24 4 2 280]\n",
            " ['C_6' 22 1 5 167]\n",
            " ['C_7' 15 4 2 271]\n",
            " ['C_8' 18 4 2 274]\n",
            " ['C_9' 21 1 4 148]\n",
            " ['C_10' 16 2 4 198]]\n"
          ]
        }
      ]
    }
  ]
}