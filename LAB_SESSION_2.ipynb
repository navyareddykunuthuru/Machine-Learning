{
  "nbformat": 4,
  "nbformat_minor": 0,
  "metadata": {
    "colab": {
      "provenance": []
    },
    "kernelspec": {
      "name": "python3",
      "display_name": "Python 3"
    },
    "language_info": {
      "name": "python"
    }
  },
  "cells": [
    {
      "cell_type": "code",
      "execution_count": null,
      "metadata": {
        "colab": {
          "base_uri": "https://localhost:8080/"
        },
        "id": "s0KU7e4aQOX9",
        "outputId": "9c431aae-f633-40d0-fb75-438b5aad1ff2"
      },
      "outputs": [
        {
          "output_type": "stream",
          "name": "stdout",
          "text": [
            "Drive already mounted at /content/drive; to attempt to forcibly remount, call drive.mount(\"/content/drive\", force_remount=True).\n",
            "PURCHASE DATA:\n",
            "  Customer  Candies (#)  Mangoes (Kg)  Milk Packets (#)  Payment (Rs)\n",
            "0      C_1           20             6                 2           386\n",
            "1      C_2           16             3                 6           289\n",
            "2      C_3           27             6                 2           393\n",
            "3      C_4           19             1                 2           110\n",
            "4      C_5           24             4                 2           280\n",
            "5      C_6           22             1                 5           167\n",
            "6      C_7           15             4                 2           271\n",
            "7      C_8           18             4                 2           274\n",
            "8      C_9           21             1                 4           148\n",
            "9     C_10           16             2                 4           198\n",
            "MATRIX A:\n",
            "[[20  6  2]\n",
            " [16  3  6]\n",
            " [27  6  2]\n",
            " [19  1  2]\n",
            " [24  4  2]\n",
            " [22  1  5]\n",
            " [15  4  2]\n",
            " [18  4  2]\n",
            " [21  1  4]\n",
            " [16  2  4]]\n",
            "MATRIX C:\n",
            "[[386]\n",
            " [289]\n",
            " [393]\n",
            " [110]\n",
            " [280]\n",
            " [167]\n",
            " [271]\n",
            " [274]\n",
            " [148]\n",
            " [198]]\n",
            "DIMENSIONALITY OF VECTOR SPACE OF DATA:\n",
            " 3\n",
            "NO.OF VECTOR SPACES:\n",
            " 10\n",
            "RANK OF MATRIX A:\n",
            " 3\n",
            "PSEUDO INVERSE OF A:\n",
            " [[-0.01008596 -0.03124505  0.01013951  0.0290728   0.0182907   0.01161794\n",
            "  -0.00771348  0.00095458  0.01743623 -0.00542016]\n",
            " [ 0.09059668  0.07263726  0.03172933 -0.09071908 -0.01893196 -0.06926996\n",
            "   0.05675464  0.03152577 -0.07641966  0.00357352]\n",
            " [ 0.00299878  0.15874243 -0.05795468 -0.06609024 -0.06295043  0.03348017\n",
            "   0.01541831 -0.01070461  0.00029003  0.05938755]]\n"
          ]
        }
      ],
      "source": [
        "from google.colab import drive\n",
        "import pandas as pd\n",
        "import numpy as np\n",
        "drive.mount('/content/drive')\n",
        "purchase_data = pd.read_excel('/content/drive/MyDrive/Colab Notebooks/Lab Session Data.xlsx', usecols=[0,1, 2, 3,4])\n",
        "print(\"PURCHASE DATA:\")\n",
        "print(purchase_data)\n",
        "data1=purchase_data.iloc[:, 1:4]\n",
        "A = data1.to_numpy()\n",
        "print(\"MATRIX A:\")\n",
        "print(A)\n",
        "data1=purchase_data.iloc[:, 4:5]\n",
        "C = data1.to_numpy()\n",
        "print(\"MATRIX C:\")\n",
        "print(C)\n",
        "print(\"DIMENSIONALITY OF VECTOR SPACE OF DATA:\\n\",len(A[0]))\n",
        "print(\"NO.OF VECTOR SPACES:\\n\",len(A))\n",
        "rank_A=np.linalg.matrix_rank(A)\n",
        "print(\"RANK OF MATRIX A:\\n\",rank_A)\n",
        "pseudo_inverse_A=np.linalg.pinv(A)\n",
        "print(\"PSEUDO INVERSE OF A:\\n\",pseudo_inverse_A)"
      ]
    },
    {
      "cell_type": "code",
      "source": [],
      "metadata": {
        "id": "08M-D4dkUoU7"
      },
      "execution_count": null,
      "outputs": []
    },
    {
      "cell_type": "code",
      "source": [
        "from google.colab import drive\n",
        "import pandas as pd\n",
        "import matplotlib.pyplot as plt\n",
        "import statistics\n",
        "def MEAN(prices):\n",
        "   return statistics.mean(prices)\n",
        "def VARIANCE(prices):\n",
        "   return statistics.variance(prices)\n",
        "def PROBABILITY(outcomes,total):\n",
        "   return outcomes/total\n",
        "   loss_probability=len(IRCTC[IRCTC[\"Chg%\"]<0])/len(IRCTC)\n",
        "drive.mount('/content/drive')\n",
        "IRCTC = pd.read_excel('/content/drive/MyDrive/Colab Notebooks/Lab Session Data.xlsx',sheet_name=\"IRCTC Stock Price\")\n",
        "prices=IRCTC[\"Price\"]\n",
        "print(\"MEAN OF PRICES:\\n\",MEAN(prices))\n",
        "print(\"VARIANCE OF PRICES:\\n\",VARIANCE(prices))\n",
        "wednesday_prices=IRCTC[IRCTC['Day']==\"Wed\"][\"Price\"]\n",
        "print(\"SAMPLE MEAN OF WEDNESDAY:\\n\",MEAN(wednesday_prices))\n",
        "april_data = IRCTC[IRCTC['Month'] == \"Apr\"][\"Price\"]\n",
        "print(\"SAMPLE MEAN OF APRIL:\\n\",MEAN(april_data))\n",
        "loss = len(IRCTC[IRCTC[\"Chg%\"]<0])\n",
        "print(\"PROBABILITY OF MAKING LOSS:\\n\",PROBABILITY(loss,len(IRCTC)))\n",
        "wed_profit=len(IRCTC[IRCTC[\"Chg%\"]>0])\n",
        "print(\"PROBABILITY OF MAKING PROFIT ON WEDNESDAY:\\n\",PROBABILITY(wed_profit,len(IRCTC[IRCTC[\"Day\"]==\"Wed\"])))\n",
        "print(\"CONDITIONAL PROBABILITY OF MAKING PROFIT GIVEN IT'S WEDNESDAY:\\n\",PROBABILITY(wed_profit,len(IRCTC)))\n",
        "plt.scatter(IRCTC['Day'], IRCTC['Chg%'],color=\"red\")\n",
        "plt.grid(True)\n",
        "plt.xlabel('Day of the Week')\n",
        "plt.ylabel('Price')\n",
        "plt.title('Scatter Plot of Price against Day of the Week')\n",
        "plt.show()"
      ],
      "metadata": {
        "id": "WfigWtMcYqpP",
        "colab": {
          "base_uri": "https://localhost:8080/",
          "height": 746
        },
        "outputId": "a8c865b8-2465-4854-95c6-5656c67e95c1"
      },
      "execution_count": 44,
      "outputs": [
        {
          "output_type": "stream",
          "name": "stdout",
          "text": [
            "Drive already mounted at /content/drive; to attempt to forcibly remount, call drive.mount(\"/content/drive\", force_remount=True).\n",
            "MEAN OF PRICES:\n",
            " 1560.663453815261\n",
            "VARIANCE OF PRICES:\n",
            " 58732.365352539186\n",
            "SAMPLE MEAN OF WEDNESDAY:\n",
            " 1550.706\n",
            "SAMPLE MEAN OF APRIL:\n",
            " 1698.9526315789474\n",
            "PROBABILITY OF MAKING LOSS:\n",
            " 0.4979919678714859\n",
            "PROBABILITY OF MAKING PROFIT ON WEDNESDAY:\n",
            " 2.48\n",
            "CONDITIONAL PROBABILITY OF MAKING PROFIT GIVEN IT'S WEDNESDAY:\n",
            " 0.4979919678714859\n"
          ]
        },
        {
          "output_type": "display_data",
          "data": {
            "text/plain": [
              "<Figure size 640x480 with 1 Axes>"
            ],
            "image/png": "[encoded data removed]"
          },
          "metadata": {}
        }
      ]
    },
    {
      "cell_type": "code",
      "source": [
        "from google.colab import drive\n",
        "import pandas as pd\n",
        "import numpy as np\n",
        "drive.mount('/content/drive')\n",
        "thyroid = pd.read_excel('/content/drive/MyDrive/Colab Notebooks/Lab Session Data.xlsx',sheet_name=\"thyroid0387_UCI\")\n"
      ],
      "metadata": {
        "colab": {
          "base_uri": "https://localhost:8080/"
        },
        "id": "xDMVU6o7t4bH",
        "outputId": "10d91431-4c98-4e5c-e483-9399cd8bf05c"
      },
      "execution_count": null,
      "outputs": [
        {
          "output_type": "stream",
          "name": "stdout",
          "text": [
            "Drive already mounted at /content/drive; to attempt to forcibly remount, call drive.mount(\"/content/drive\", force_remount=True).\n",
            "      Record ID  age sex on thyroxine query on thyroxine  \\\n",
            "0     840801013   29   F            f                  f   \n",
            "1     840801014   29   F            f                  f   \n",
            "2     840801042   41   F            f                  f   \n",
            "3     840803046   36   F            f                  f   \n",
            "4     840803047   32   F            f                  f   \n",
            "...         ...  ...  ..          ...                ...   \n",
            "9167  870119022   56   M            f                  f   \n",
            "9168  870119023   22   M            f                  f   \n",
            "9169  870119025   69   M            f                  f   \n",
            "9170  870119027   47   F            f                  f   \n",
            "9171  870119035   31   M            f                  f   \n",
            "\n",
            "     on antithyroid medication sick pregnant thyroid surgery I131 treatment  \\\n",
            "0                            f    f        f               f              f   \n",
            "1                            f    f        f               f              f   \n",
            "2                            f    f        f               f              f   \n",
            "3                            f    f        f               f              f   \n",
            "4                            f    f        f               f              f   \n",
            "...                        ...  ...      ...             ...            ...   \n",
            "9167                         f    f        f               f              f   \n",
            "9168                         f    f        f               f              f   \n",
            "9169                         f    f        f               f              f   \n",
            "9170                         f    f        f               f              f   \n",
            "9171                         f    f        f               f              f   \n",
            "\n",
            "      ... TT4 measured  TT4 T4U measured   T4U FTI measured FTI TBG measured  \\\n",
            "0     ...            f    ?            f     ?            f   ?            f   \n",
            "1     ...            t  128            f     ?            f   ?            f   \n",
            "2     ...            f    ?            f     ?            f   ?            t   \n",
            "3     ...            f    ?            f     ?            f   ?            t   \n",
            "4     ...            f    ?            f     ?            f   ?            t   \n",
            "...   ...          ...  ...          ...   ...          ...  ..          ...   \n",
            "9167  ...            t   64            t  0.83            t  77            f   \n",
            "9168  ...            t   91            t  0.92            t  99            f   \n",
            "9169  ...            t  113            t  1.27            t  89            f   \n",
            "9170  ...            t   75            t  0.85            t  88            f   \n",
            "9171  ...            t   66            t  1.02            t  65            f   \n",
            "\n",
            "     TBG referral source     Condition  \n",
            "0      ?           other  NO CONDITION  \n",
            "1      ?           other  NO CONDITION  \n",
            "2     11           other  NO CONDITION  \n",
            "3     26           other  NO CONDITION  \n",
            "4     36           other             S  \n",
            "...   ..             ...           ...  \n",
            "9167   ?             SVI  NO CONDITION  \n",
            "9168   ?             SVI  NO CONDITION  \n",
            "9169   ?             SVI             I  \n",
            "9170   ?           other  NO CONDITION  \n",
            "9171   ?           other  NO CONDITION  \n",
            "\n",
            "[9172 rows x 31 columns]\n"
          ]
        }
      ]
    }
  ]
}
